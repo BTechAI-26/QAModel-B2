{
 "cells": [
  {
   "cell_type": "code",
   "execution_count": 1,
   "metadata": {},
   "outputs": [],
   "source": [
    "import pandas as pd\n",
    "import numpy as np\n",
    "import matplotlib.pyplot as plt"
   ]
  },
  {
   "cell_type": "code",
   "execution_count": 2,
   "metadata": {},
   "outputs": [
    {
     "data": {
      "text/html": [
       "<div>\n",
       "<style scoped>\n",
       "    .dataframe tbody tr th:only-of-type {\n",
       "        vertical-align: middle;\n",
       "    }\n",
       "\n",
       "    .dataframe tbody tr th {\n",
       "        vertical-align: top;\n",
       "    }\n",
       "\n",
       "    .dataframe thead th {\n",
       "        text-align: right;\n",
       "    }\n",
       "</style>\n",
       "<table border=\"1\" class=\"dataframe\">\n",
       "  <thead>\n",
       "    <tr style=\"text-align: right;\">\n",
       "      <th></th>\n",
       "      <th>Question</th>\n",
       "      <th>Answer</th>\n",
       "      <th>Source</th>\n",
       "      <th>Date Accessed</th>\n",
       "    </tr>\n",
       "  </thead>\n",
       "  <tbody>\n",
       "    <tr>\n",
       "      <th>0</th>\n",
       "      <td>When was the Middle East Respiratory Syndrome ...</td>\n",
       "      <td>(MERS-CoV) was first isolated in 2012, in a 60...</td>\n",
       "      <td>GitHub COVID-QA Dataset</td>\n",
       "      <td>27-Apr-20</td>\n",
       "    </tr>\n",
       "    <tr>\n",
       "      <th>1</th>\n",
       "      <td>Which medical comorbidities most profoundly in...</td>\n",
       "      <td>if they were obese, immunocompromised, diabeti...</td>\n",
       "      <td>GitHub COVID-QA Dataset</td>\n",
       "      <td>27-Apr-20</td>\n",
       "    </tr>\n",
       "    <tr>\n",
       "      <th>2</th>\n",
       "      <td>What is the size of bovine coronavirus</td>\n",
       "      <td>31 kb</td>\n",
       "      <td>GitHub COVID-QA Dataset</td>\n",
       "      <td>27-Apr-20</td>\n",
       "    </tr>\n",
       "    <tr>\n",
       "      <th>3</th>\n",
       "      <td>What is the estimated R0 of COVID-19</td>\n",
       "      <td>2.2</td>\n",
       "      <td>GitHub COVID-QA Dataset</td>\n",
       "      <td>27-Apr-20</td>\n",
       "    </tr>\n",
       "    <tr>\n",
       "      <th>4</th>\n",
       "      <td>What is the relationship between SARS-CoV and ...</td>\n",
       "      <td>Many infected patients have acute lung injury ...</td>\n",
       "      <td>GitHub COVID-QA Dataset</td>\n",
       "      <td>27-Apr-20</td>\n",
       "    </tr>\n",
       "  </tbody>\n",
       "</table>\n",
       "</div>"
      ],
      "text/plain": [
       "                                            Question  \\\n",
       "0  When was the Middle East Respiratory Syndrome ...   \n",
       "1  Which medical comorbidities most profoundly in...   \n",
       "2             What is the size of bovine coronavirus   \n",
       "3               What is the estimated R0 of COVID-19   \n",
       "4  What is the relationship between SARS-CoV and ...   \n",
       "\n",
       "                                              Answer                   Source  \\\n",
       "0  (MERS-CoV) was first isolated in 2012, in a 60...  GitHub COVID-QA Dataset   \n",
       "1  if they were obese, immunocompromised, diabeti...  GitHub COVID-QA Dataset   \n",
       "2                                              31 kb  GitHub COVID-QA Dataset   \n",
       "3                                                2.2  GitHub COVID-QA Dataset   \n",
       "4  Many infected patients have acute lung injury ...  GitHub COVID-QA Dataset   \n",
       "\n",
       "  Date Accessed  \n",
       "0     27-Apr-20  \n",
       "1     27-Apr-20  \n",
       "2     27-Apr-20  \n",
       "3     27-Apr-20  \n",
       "4     27-Apr-20  "
      ]
     },
     "execution_count": 2,
     "metadata": {},
     "output_type": "execute_result"
    }
   ],
   "source": [
    "covid_data = pd.read_csv('COVID-QA_Dataset.csv')\n",
    "covid_data.head()"
   ]
  },
  {
   "cell_type": "code",
   "execution_count": 3,
   "metadata": {},
   "outputs": [
    {
     "data": {
      "text/html": [
       "<div>\n",
       "<style scoped>\n",
       "    .dataframe tbody tr th:only-of-type {\n",
       "        vertical-align: middle;\n",
       "    }\n",
       "\n",
       "    .dataframe tbody tr th {\n",
       "        vertical-align: top;\n",
       "    }\n",
       "\n",
       "    .dataframe thead th {\n",
       "        text-align: right;\n",
       "    }\n",
       "</style>\n",
       "<table border=\"1\" class=\"dataframe\">\n",
       "  <thead>\n",
       "    <tr style=\"text-align: right;\">\n",
       "      <th></th>\n",
       "      <th>Question</th>\n",
       "      <th>Answer</th>\n",
       "    </tr>\n",
       "  </thead>\n",
       "  <tbody>\n",
       "    <tr>\n",
       "      <th>0</th>\n",
       "      <td>When was the Middle East Respiratory Syndrome ...</td>\n",
       "      <td>(MERS-CoV) was first isolated in 2012, in a 60...</td>\n",
       "    </tr>\n",
       "    <tr>\n",
       "      <th>1</th>\n",
       "      <td>Which medical comorbidities most profoundly in...</td>\n",
       "      <td>if they were obese, immunocompromised, diabeti...</td>\n",
       "    </tr>\n",
       "    <tr>\n",
       "      <th>2</th>\n",
       "      <td>What is the size of bovine coronavirus</td>\n",
       "      <td>31 kb</td>\n",
       "    </tr>\n",
       "    <tr>\n",
       "      <th>3</th>\n",
       "      <td>What is the estimated R0 of COVID-19</td>\n",
       "      <td>2.2</td>\n",
       "    </tr>\n",
       "    <tr>\n",
       "      <th>4</th>\n",
       "      <td>What is the relationship between SARS-CoV and ...</td>\n",
       "      <td>Many infected patients have acute lung injury ...</td>\n",
       "    </tr>\n",
       "    <tr>\n",
       "      <th>...</th>\n",
       "      <td>...</td>\n",
       "      <td>...</td>\n",
       "    </tr>\n",
       "    <tr>\n",
       "      <th>190</th>\n",
       "      <td>What suggests that Irish equine coronaviruses ...</td>\n",
       "      <td>high level of homology between viruses</td>\n",
       "    </tr>\n",
       "    <tr>\n",
       "      <th>191</th>\n",
       "      <td>Where was SARS-CoV-2 first identified</td>\n",
       "      <td>Wuhan, capital of Hubei Province, China</td>\n",
       "    </tr>\n",
       "    <tr>\n",
       "      <th>192</th>\n",
       "      <td>What is a major difference in clinical progres...</td>\n",
       "      <td>Unlike SARS-CoV infection, which causes primar...</td>\n",
       "    </tr>\n",
       "    <tr>\n",
       "      <th>193</th>\n",
       "      <td>How big was the temporary hospital built in Wu...</td>\n",
       "      <td>1000 bed hospital</td>\n",
       "    </tr>\n",
       "    <tr>\n",
       "      <th>194</th>\n",
       "      <td>Being closest to 2019-nCoV which species do th...</td>\n",
       "      <td>can infect suckling rats and cause inflammatio...</td>\n",
       "    </tr>\n",
       "  </tbody>\n",
       "</table>\n",
       "<p>195 rows × 2 columns</p>\n",
       "</div>"
      ],
      "text/plain": [
       "                                              Question  \\\n",
       "0    When was the Middle East Respiratory Syndrome ...   \n",
       "1    Which medical comorbidities most profoundly in...   \n",
       "2               What is the size of bovine coronavirus   \n",
       "3                 What is the estimated R0 of COVID-19   \n",
       "4    What is the relationship between SARS-CoV and ...   \n",
       "..                                                 ...   \n",
       "190  What suggests that Irish equine coronaviruses ...   \n",
       "191              Where was SARS-CoV-2 first identified   \n",
       "192  What is a major difference in clinical progres...   \n",
       "193  How big was the temporary hospital built in Wu...   \n",
       "194  Being closest to 2019-nCoV which species do th...   \n",
       "\n",
       "                                                Answer  \n",
       "0    (MERS-CoV) was first isolated in 2012, in a 60...  \n",
       "1    if they were obese, immunocompromised, diabeti...  \n",
       "2                                                31 kb  \n",
       "3                                                  2.2  \n",
       "4    Many infected patients have acute lung injury ...  \n",
       "..                                                 ...  \n",
       "190             high level of homology between viruses  \n",
       "191            Wuhan, capital of Hubei Province, China  \n",
       "192  Unlike SARS-CoV infection, which causes primar...  \n",
       "193                                  1000 bed hospital  \n",
       "194  can infect suckling rats and cause inflammatio...  \n",
       "\n",
       "[195 rows x 2 columns]"
      ]
     },
     "execution_count": 3,
     "metadata": {},
     "output_type": "execute_result"
    }
   ],
   "source": [
    "covid_data = covid_data.drop(['Source','Date Accessed'], axis = 1)\n",
    "covid_data"
   ]
  },
  {
   "cell_type": "code",
   "execution_count": 4,
   "metadata": {},
   "outputs": [
    {
     "data": {
      "text/html": [
       "<div>\n",
       "<style scoped>\n",
       "    .dataframe tbody tr th:only-of-type {\n",
       "        vertical-align: middle;\n",
       "    }\n",
       "\n",
       "    .dataframe tbody tr th {\n",
       "        vertical-align: top;\n",
       "    }\n",
       "\n",
       "    .dataframe thead th {\n",
       "        text-align: right;\n",
       "    }\n",
       "</style>\n",
       "<table border=\"1\" class=\"dataframe\">\n",
       "  <thead>\n",
       "    <tr style=\"text-align: right;\">\n",
       "      <th></th>\n",
       "      <th>Question</th>\n",
       "      <th>Answer</th>\n",
       "    </tr>\n",
       "  </thead>\n",
       "  <tbody>\n",
       "    <tr>\n",
       "      <th>0</th>\n",
       "      <td>When was the Middle East Respiratory Syndrome ...</td>\n",
       "      <td>(MERS-CoV) was first isolated in 2012, in a 60...</td>\n",
       "    </tr>\n",
       "    <tr>\n",
       "      <th>1</th>\n",
       "      <td>Which medical comorbidities most profoundly in...</td>\n",
       "      <td>if they were obese, immunocompromised, diabeti...</td>\n",
       "    </tr>\n",
       "    <tr>\n",
       "      <th>2</th>\n",
       "      <td>What is the size of bovine coronavirus</td>\n",
       "      <td>31 kb</td>\n",
       "    </tr>\n",
       "    <tr>\n",
       "      <th>3</th>\n",
       "      <td>What is the estimated R0 of COVID-19</td>\n",
       "      <td>2.2</td>\n",
       "    </tr>\n",
       "    <tr>\n",
       "      <th>4</th>\n",
       "      <td>What is the relationship between SARS-CoV and ...</td>\n",
       "      <td>Many infected patients have acute lung injury ...</td>\n",
       "    </tr>\n",
       "  </tbody>\n",
       "</table>\n",
       "</div>"
      ],
      "text/plain": [
       "                                            Question  \\\n",
       "0  When was the Middle East Respiratory Syndrome ...   \n",
       "1  Which medical comorbidities most profoundly in...   \n",
       "2             What is the size of bovine coronavirus   \n",
       "3               What is the estimated R0 of COVID-19   \n",
       "4  What is the relationship between SARS-CoV and ...   \n",
       "\n",
       "                                              Answer  \n",
       "0  (MERS-CoV) was first isolated in 2012, in a 60...  \n",
       "1  if they were obese, immunocompromised, diabeti...  \n",
       "2                                              31 kb  \n",
       "3                                                2.2  \n",
       "4  Many infected patients have acute lung injury ...  "
      ]
     },
     "execution_count": 4,
     "metadata": {},
     "output_type": "execute_result"
    }
   ],
   "source": [
    "covid_data.head()"
   ]
  },
  {
   "cell_type": "code",
   "execution_count": 14,
   "metadata": {},
   "outputs": [],
   "source": [
    "def formatting(ques, ans, num):\n",
    "    return f\"{num}. Question: {ques}\\n    Answer: {ans}\""
   ]
  },
  {
   "cell_type": "code",
   "execution_count": 15,
   "metadata": {},
   "outputs": [],
   "source": [
    "formatted_data = []"
   ]
  },
  {
   "cell_type": "code",
   "execution_count": 16,
   "metadata": {},
   "outputs": [
    {
     "name": "stderr",
     "output_type": "stream",
     "text": [
      "/var/folders/b5/1td5nx5s3x53rhk3l8jcrkwr0000gn/T/ipykernel_30249/1706605143.py:2: FutureWarning: Series.__getitem__ treating keys as positions is deprecated. In a future version, integer keys will always be treated as labels (consistent with DataFrame behavior). To access a value by position, use `ser.iloc[pos]`\n",
      "  ques = row[0]\n",
      "/var/folders/b5/1td5nx5s3x53rhk3l8jcrkwr0000gn/T/ipykernel_30249/1706605143.py:3: FutureWarning: Series.__getitem__ treating keys as positions is deprecated. In a future version, integer keys will always be treated as labels (consistent with DataFrame behavior). To access a value by position, use `ser.iloc[pos]`\n",
      "  ans = row[1]\n"
     ]
    }
   ],
   "source": [
    "for index, row in covid_data.iterrows():\n",
    "    ques = row[0]\n",
    "    ans = row[1]\n",
    "    formatted_entry = formatting(ques, ans, index + 1)\n",
    "    formatted_data.append([formatted_entry])"
   ]
  },
  {
   "cell_type": "code",
   "execution_count": 17,
   "metadata": {},
   "outputs": [],
   "source": [
    "import csv"
   ]
  },
  {
   "cell_type": "code",
   "execution_count": 18,
   "metadata": {},
   "outputs": [],
   "source": [
    "with open('formatted_output.csv', mode='w', newline='', encoding='utf-8') as file:\n",
    "    writer = csv.writer(file)\n",
    "    writer.writerow([\"Q&A\"]) \n",
    "    writer.writerows(formatted_data)"
   ]
  },
  {
   "cell_type": "code",
   "execution_count": 19,
   "metadata": {},
   "outputs": [
    {
     "data": {
      "text/html": [
       "<div>\n",
       "<style scoped>\n",
       "    .dataframe tbody tr th:only-of-type {\n",
       "        vertical-align: middle;\n",
       "    }\n",
       "\n",
       "    .dataframe tbody tr th {\n",
       "        vertical-align: top;\n",
       "    }\n",
       "\n",
       "    .dataframe thead th {\n",
       "        text-align: right;\n",
       "    }\n",
       "</style>\n",
       "<table border=\"1\" class=\"dataframe\">\n",
       "  <thead>\n",
       "    <tr style=\"text-align: right;\">\n",
       "      <th></th>\n",
       "      <th>Q&amp;A</th>\n",
       "    </tr>\n",
       "  </thead>\n",
       "  <tbody>\n",
       "    <tr>\n",
       "      <th>0</th>\n",
       "      <td>1. Question: When was the Middle East Respirat...</td>\n",
       "    </tr>\n",
       "    <tr>\n",
       "      <th>1</th>\n",
       "      <td>2. Question: Which medical comorbidities most ...</td>\n",
       "    </tr>\n",
       "    <tr>\n",
       "      <th>2</th>\n",
       "      <td>3. Question: What is the size of bovine corona...</td>\n",
       "    </tr>\n",
       "    <tr>\n",
       "      <th>3</th>\n",
       "      <td>4. Question: What is the estimated R0 of COVID...</td>\n",
       "    </tr>\n",
       "    <tr>\n",
       "      <th>4</th>\n",
       "      <td>5. Question: What is the relationship between ...</td>\n",
       "    </tr>\n",
       "  </tbody>\n",
       "</table>\n",
       "</div>"
      ],
      "text/plain": [
       "                                                 Q&A\n",
       "0  1. Question: When was the Middle East Respirat...\n",
       "1  2. Question: Which medical comorbidities most ...\n",
       "2  3. Question: What is the size of bovine corona...\n",
       "3  4. Question: What is the estimated R0 of COVID...\n",
       "4  5. Question: What is the relationship between ..."
      ]
     },
     "execution_count": 19,
     "metadata": {},
     "output_type": "execute_result"
    }
   ],
   "source": [
    "llm_data = pd.read_csv('formatted_output.csv')\n",
    "llm_data.head()"
   ]
  },
  {
   "cell_type": "code",
   "execution_count": 38,
   "metadata": {},
   "outputs": [
    {
     "name": "stdout",
     "output_type": "stream",
     "text": [
      "                                                   Q&A  tags\n",
      "0    1. Question: When was the Middle East Respirat...     4\n",
      "1    2. Question: Which medical comorbidities most ...     4\n",
      "2    3. Question: What is the size of bovine corona...     0\n",
      "3    4. Question: What is the estimated R0 of COVID...     0\n",
      "4    5. Question: What is the relationship between ...     4\n",
      "..                                                 ...   ...\n",
      "190  191. Question: What suggests that Irish equine...     0\n",
      "191  192. Question: Where was SARS-CoV-2 first iden...     4\n",
      "192  193. Question: What is a major difference in c...     4\n",
      "193  194. Question: How big was the temporary hospi...     0\n",
      "194  195. Question: Being closest to 2019-nCoV whic...     4\n",
      "\n",
      "[195 rows x 2 columns]\n",
      "Cluster Tags:\n",
      "Cluster 0: ['coronavirus', 'answer', 'question']\n",
      "Cluster 1: ['ncov', '2019', 'answer']\n",
      "Cluster 2: ['days', 'person', 'incubation']\n",
      "Cluster 3: ['case', 'covid', 'jan']\n",
      "Cluster 4: ['cov', 'sars', 'mers']\n"
     ]
    }
   ],
   "source": [
    "import pandas as pd\n",
    "from sklearn.feature_extraction.text import TfidfVectorizer\n",
    "from sklearn.cluster import KMeans\n",
    "\n",
    "tags_covid_data = pd.read_csv('formatted_output.csv')\n",
    "texts = tags_covid_data['Q&A'].astype(str)\n",
    "vectorizer = TfidfVectorizer(stop_words='english')\n",
    "X = vectorizer.fit_transform(texts)\n",
    "num_clusters = 5 \n",
    "kmeans = KMeans(n_clusters=num_clusters, random_state=42)\n",
    "kmeans.fit(X)\n",
    "tags_covid_data['tags'] = kmeans.labels_\n",
    "def get_cluster_tags(cluster_num):\n",
    "    cluster_center = kmeans.cluster_centers_[cluster_num]\n",
    "    sorted_indices = cluster_center.argsort()[::-1]\n",
    "    feature_names = vectorizer.get_feature_names_out()\n",
    "    return [feature_names[i] for i in sorted_indices[:3]]  # Top 3 tags\n",
    "cluster_tags = {i: get_cluster_tags(i) for i in range(num_clusters)}\n",
    "print(tags_covid_data[['Q&A', 'tags']])\n",
    "print(\"Cluster Tags:\")\n",
    "for cluster, tags in cluster_tags.items():\n",
    "    print(f\"Cluster {cluster}: {tags}\")"
   ]
  },
  {
   "cell_type": "code",
   "execution_count": 39,
   "metadata": {},
   "outputs": [
    {
     "name": "stdout",
     "output_type": "stream",
     "text": [
      "                                                 Q&A  tags\n",
      "0  1. Question: When was the Middle East Respirat...     4\n",
      "1  2. Question: Which medical comorbidities most ...     4\n",
      "2  3. Question: What is the size of bovine corona...     0\n",
      "3  4. Question: What is the estimated R0 of COVID...     0\n",
      "4  5. Question: What is the relationship between ...     4\n"
     ]
    }
   ],
   "source": [
    "print(tags_covid_data.head())"
   ]
  }
 ],
 "metadata": {
  "kernelspec": {
   "display_name": "Python 3",
   "language": "python",
   "name": "python3"
  },
  "language_info": {
   "codemirror_mode": {
    "name": "ipython",
    "version": 3
   },
   "file_extension": ".py",
   "mimetype": "text/x-python",
   "name": "python",
   "nbconvert_exporter": "python",
   "pygments_lexer": "ipython3",
   "version": "3.9.6"
  }
 },
 "nbformat": 4,
 "nbformat_minor": 2
}
